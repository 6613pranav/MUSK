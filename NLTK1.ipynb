{
 "cells": [
  {
   "cell_type": "code",
   "execution_count": 1,
   "metadata": {},
   "outputs": [],
   "source": [
    "import nltk"
   ]
  },
  {
   "cell_type": "markdown",
   "metadata": {},
   "source": [
    "## convert paragraph to sentence"
   ]
  },
  {
   "cell_type": "code",
   "execution_count": 2,
   "metadata": {},
   "outputs": [],
   "source": [
    "from nltk.tokenize import sent_tokenize"
   ]
  },
  {
   "cell_type": "code",
   "execution_count": 3,
   "metadata": {},
   "outputs": [],
   "source": [
    "text=\"J.S.S. Academy of Technical Education, Bangalore (JSSATEB), or in its full name Jagadguru Sri Shivarathreeshwara Academy of Technical Education, Bangalore, is an engineering college in Bangalore, India established in 1997 and managed by JSS Mahavidyapeetha, Mysore. The campus is located in on a hilly 21 acre campus on the Uttarahalli-Kengeri main road within close proximity to Rajarajeshwari Nagar on the southwestern edge of Bangalore City. The college is approved and accredited by All India Council for Technical Education as well as The National Board of Accreditation.\""
   ]
  },
  {
   "cell_type": "code",
   "execution_count": 4,
   "metadata": {},
   "outputs": [],
   "source": [
    "token_text=sent_tokenize(text)"
   ]
  },
  {
   "cell_type": "code",
   "execution_count": 5,
   "metadata": {
    "scrolled": true
   },
   "outputs": [
    {
     "name": "stdout",
     "output_type": "stream",
     "text": [
      "['J.S.S.', 'Academy of Technical Education, Bangalore (JSSATEB), or in its full name Jagadguru Sri Shivarathreeshwara Academy of Technical Education, Bangalore, is an engineering college in Bangalore, India established in 1997 and managed by JSS Mahavidyapeetha, Mysore.', 'The campus is located in on a hilly 21 acre campus on the Uttarahalli-Kengeri main road within close proximity to Rajarajeshwari Nagar on the southwestern edge of Bangalore City.', 'The college is approved and accredited by All India Council for Technical Education as well as The National Board of Accreditation.']\n"
     ]
    }
   ],
   "source": [
    "print(token_text)"
   ]
  },
  {
   "cell_type": "markdown",
   "metadata": {},
   "source": [
    "## convert paragraph to word"
   ]
  },
  {
   "cell_type": "code",
   "execution_count": 6,
   "metadata": {},
   "outputs": [],
   "source": [
    "from nltk.tokenize import word_tokenize"
   ]
  },
  {
   "cell_type": "code",
   "execution_count": 7,
   "metadata": {},
   "outputs": [],
   "source": [
    "token_word = word_tokenize(text)"
   ]
  },
  {
   "cell_type": "code",
   "execution_count": 8,
   "metadata": {},
   "outputs": [
    {
     "name": "stdout",
     "output_type": "stream",
     "text": [
      "['J.S.S', '.', 'Academy', 'of', 'Technical', 'Education', ',', 'Bangalore', '(', 'JSSATEB', ')', ',', 'or', 'in', 'its', 'full', 'name', 'Jagadguru', 'Sri', 'Shivarathreeshwara', 'Academy', 'of', 'Technical', 'Education', ',', 'Bangalore', ',', 'is', 'an', 'engineering', 'college', 'in', 'Bangalore', ',', 'India', 'established', 'in', '1997', 'and', 'managed', 'by', 'JSS', 'Mahavidyapeetha', ',', 'Mysore', '.', 'The', 'campus', 'is', 'located', 'in', 'on', 'a', 'hilly', '21', 'acre', 'campus', 'on', 'the', 'Uttarahalli-Kengeri', 'main', 'road', 'within', 'close', 'proximity', 'to', 'Rajarajeshwari', 'Nagar', 'on', 'the', 'southwestern', 'edge', 'of', 'Bangalore', 'City', '.', 'The', 'college', 'is', 'approved', 'and', 'accredited', 'by', 'All', 'India', 'Council', 'for', 'Technical', 'Education', 'as', 'well', 'as', 'The', 'National', 'Board', 'of', 'Accreditation', '.']\n"
     ]
    }
   ],
   "source": [
    "print(token_word)"
   ]
  },
  {
   "cell_type": "markdown",
   "metadata": {},
   "source": [
    "## Stopwords\n",
    "extract basic words \"is, that, those, etc\"  "
   ]
  },
  {
   "cell_type": "code",
   "execution_count": 9,
   "metadata": {},
   "outputs": [],
   "source": [
    "from nltk.corpus import stopwords\n"
   ]
  },
  {
   "cell_type": "code",
   "execution_count": 10,
   "metadata": {},
   "outputs": [],
   "source": [
    "swords=set(stopwords.words(\"english\"))"
   ]
  },
  {
   "cell_type": "code",
   "execution_count": 11,
   "metadata": {},
   "outputs": [
    {
     "name": "stdout",
     "output_type": "stream",
     "text": [
      "{'hadn', 'were', 'o', \"shouldn't\", 'through', 'few', 'as', 'hasn', 'my', \"shan't\", 'it', 'his', 'will', 'you', 'by', 'aren', 'ma', 'them', 'below', 'doesn', 'its', 'do', 'in', 'they', \"didn't\", 'an', 'here', 'wouldn', 'very', 'no', 'again', 'couldn', 'their', 'any', 'won', 'are', 'shan', 'the', 'so', 'he', 'her', 'with', 'into', 've', \"wouldn't\", 'where', \"hasn't\", 'yourself', \"she's\", \"won't\", 'each', 'isn', 'should', 'before', 'then', 'more', 'themselves', 'does', 'your', 'up', 'same', 'why', 'for', 'other', 'to', 'i', 'from', 'ours', 'of', \"you'd\", 'out', \"hadn't\", 'itself', 'above', 'at', 'between', 'not', 'than', \"you've\", 'that', 'both', 'yours', 'himself', 'how', 'mustn', 'such', 'because', 'needn', 'after', \"that'll\", \"aren't\", 'a', 'yourselves', 'our', 'or', 'this', 're', 'being', 'about', 'has', 'weren', 'these', 'further', 'which', \"doesn't\", \"it's\", 'but', 'only', 'ourselves', 'had', 'we', 'who', 'is', 'until', 'against', \"you're\", 'me', 'theirs', 'having', 'can', 'ain', 'while', 'been', 'off', 'didn', 'what', \"isn't\", 'down', 'shouldn', 'wasn', \"should've\", 'and', 'haven', 'mightn', 'now', 'did', \"you'll\", 't', 'over', 'once', 'there', 'am', 'myself', 'be', 'when', \"mightn't\", 'most', \"couldn't\", \"wasn't\", 'on', \"mustn't\", 'was', 'just', \"weren't\", 'if', 'y', 'don', 'hers', 'nor', 'herself', 'have', 'whom', \"haven't\", \"don't\", 'she', 'some', 'all', 'll', 'him', 'own', \"needn't\", 'doing', 'm', 'd', 'too', 'those', 's', 'during', 'under'}\n"
     ]
    }
   ],
   "source": [
    "print(swords)"
   ]
  },
  {
   "cell_type": "code",
   "execution_count": 12,
   "metadata": {},
   "outputs": [],
   "source": [
    "without_swords=[]"
   ]
  },
  {
   "cell_type": "code",
   "execution_count": 13,
   "metadata": {},
   "outputs": [],
   "source": [
    "for w in token_text:\n",
    "    if w not in swords:\n",
    "        without_swords.append(w)"
   ]
  },
  {
   "cell_type": "code",
   "execution_count": 16,
   "metadata": {},
   "outputs": [
    {
     "name": "stdout",
     "output_type": "stream",
     "text": [
      "['J.S.S.', 'Academy of Technical Education, Bangalore (JSSATEB), or in its full name Jagadguru Sri Shivarathreeshwara Academy of Technical Education, Bangalore, is an engineering college in Bangalore, India established in 1997 and managed by JSS Mahavidyapeetha, Mysore.', 'The campus is located in on a hilly 21 acre campus on the Uttarahalli-Kengeri main road within close proximity to Rajarajeshwari Nagar on the southwestern edge of Bangalore City.', 'The college is approved and accredited by All India Council for Technical Education as well as The National Board of Accreditation.']\n"
     ]
    }
   ],
   "source": [
    "print(without_swords)"
   ]
  },
  {
   "cell_type": "code",
   "execution_count": 34,
   "metadata": {},
   "outputs": [],
   "source": [
    "word22=[]"
   ]
  },
  {
   "cell_type": "code",
   "execution_count": 35,
   "metadata": {},
   "outputs": [],
   "source": [
    "for w in token_word:\n",
    "    if w not in swords:\n",
    "        word22.append(w)"
   ]
  },
  {
   "cell_type": "code",
   "execution_count": 36,
   "metadata": {},
   "outputs": [
    {
     "name": "stdout",
     "output_type": "stream",
     "text": [
      "['J.S.S', '.', 'Academy', 'Technical', 'Education', ',', 'Bangalore', '(', 'JSSATEB', ')', ',', 'full', 'name', 'Jagadguru', 'Sri', 'Shivarathreeshwara', 'Academy', 'Technical', 'Education', ',', 'Bangalore', ',', 'engineering', 'college', 'Bangalore', ',', 'India', 'established', '1997', 'managed', 'JSS', 'Mahavidyapeetha', ',', 'Mysore', '.', 'The', 'campus', 'located', 'hilly', '21', 'acre', 'campus', 'Uttarahalli-Kengeri', 'main', 'road', 'within', 'close', 'proximity', 'Rajarajeshwari', 'Nagar', 'southwestern', 'edge', 'Bangalore', 'City', '.', 'The', 'college', 'approved', 'accredited', 'All', 'India', 'Council', 'Technical', 'Education', 'well', 'The', 'National', 'Board', 'Accreditation', '.']\n"
     ]
    }
   ],
   "source": [
    "print(word22)"
   ]
  },
  {
   "cell_type": "markdown",
   "metadata": {},
   "source": [
    "## pos tagging\n",
    "tags words\n",
    "list of tags\n",
    "* CC coordinating conjunction\n",
    "* CD cardinal digit\n",
    "* DT determiner\n",
    "* EX existential there (like: “there is” … think of it like “there exists”)\n",
    "* FW foreign word\n",
    "* IN preposition/subordinating conjunction\n",
    "* JJ adjective ‘big’\n",
    "* JJR adjective, comparative ‘bigger’\n",
    "* JJS adjective, superlative ‘biggest’\n",
    "* LS list marker 1)\n",
    "* MD modal could, will\n",
    "* NN noun, singular ‘desk’\n",
    "* NNS noun plural ‘desks’\n",
    "* NNP proper noun, singular ‘Harrison’\n",
    "* NNPS proper noun, plural ‘Americans’\n",
    "* PDT predeterminer ‘all the kids’\n",
    "* POS possessive ending parent‘s\n",
    "* PRP personal pronoun I, he, she\n",
    "* PRP\"doller\" possessive pronoun my, his, hers\n",
    "* RB adverb very, silently,\n",
    "* RBR adverb, comparative better\n",
    "* RBS adverb, superlative best\n",
    "* RP particle give up\n",
    "* TO to go ‘to‘ the store.\n",
    "* UH interjection errrrrrrrm\n",
    "* VB verb, base form take\n",
    "* VBD verb, past tense took\n",
    "* VBG verb, gerund/present participle taking\n",
    "* VBN verb, past participle taken\n",
    "* VBP verb, sing. present, non-3d take\n",
    "* VBZ verb, 3rd person sing. present takes\n",
    "* WDT wh-determiner which\n",
    "* WP wh-pronoun who, what\n",
    "* WP\"doller\" possessive wh-pronoun whose\n",
    "* WRB wh-abverb where, when"
   ]
  },
  {
   "cell_type": "code",
   "execution_count": 27,
   "metadata": {},
   "outputs": [
    {
     "data": {
      "text/plain": [
       "[('J.S.S', 'NNP'),\n",
       " ('.', '.'),\n",
       " ('Academy', 'NNP'),\n",
       " ('of', 'IN'),\n",
       " ('Technical', 'NNP'),\n",
       " ('Education', 'NNP'),\n",
       " (',', ','),\n",
       " ('Bangalore', 'NNP'),\n",
       " ('(', '('),\n",
       " ('JSSATEB', 'NNP'),\n",
       " (')', ')'),\n",
       " (',', ','),\n",
       " ('or', 'CC'),\n",
       " ('in', 'IN'),\n",
       " ('its', 'PRP$'),\n",
       " ('full', 'JJ'),\n",
       " ('name', 'NN'),\n",
       " ('Jagadguru', 'NNP'),\n",
       " ('Sri', 'NNP'),\n",
       " ('Shivarathreeshwara', 'NNP'),\n",
       " ('Academy', 'NNP'),\n",
       " ('of', 'IN'),\n",
       " ('Technical', 'NNP'),\n",
       " ('Education', 'NNP'),\n",
       " (',', ','),\n",
       " ('Bangalore', 'NNP'),\n",
       " (',', ','),\n",
       " ('is', 'VBZ'),\n",
       " ('an', 'DT'),\n",
       " ('engineering', 'NN'),\n",
       " ('college', 'NN'),\n",
       " ('in', 'IN'),\n",
       " ('Bangalore', 'NNP'),\n",
       " (',', ','),\n",
       " ('India', 'NNP'),\n",
       " ('established', 'VBD'),\n",
       " ('in', 'IN'),\n",
       " ('1997', 'CD'),\n",
       " ('and', 'CC'),\n",
       " ('managed', 'VBN'),\n",
       " ('by', 'IN'),\n",
       " ('JSS', 'NNP'),\n",
       " ('Mahavidyapeetha', 'NNP'),\n",
       " (',', ','),\n",
       " ('Mysore', 'NNP'),\n",
       " ('.', '.'),\n",
       " ('The', 'DT'),\n",
       " ('campus', 'NN'),\n",
       " ('is', 'VBZ'),\n",
       " ('located', 'VBN'),\n",
       " ('in', 'IN'),\n",
       " ('on', 'IN'),\n",
       " ('a', 'DT'),\n",
       " ('hilly', 'RB'),\n",
       " ('21', 'CD'),\n",
       " ('acre', 'JJ'),\n",
       " ('campus', 'NN'),\n",
       " ('on', 'IN'),\n",
       " ('the', 'DT'),\n",
       " ('Uttarahalli-Kengeri', 'NNP'),\n",
       " ('main', 'JJ'),\n",
       " ('road', 'NN'),\n",
       " ('within', 'IN'),\n",
       " ('close', 'JJ'),\n",
       " ('proximity', 'NN'),\n",
       " ('to', 'TO'),\n",
       " ('Rajarajeshwari', 'NNP'),\n",
       " ('Nagar', 'NNP'),\n",
       " ('on', 'IN'),\n",
       " ('the', 'DT'),\n",
       " ('southwestern', 'JJ'),\n",
       " ('edge', 'NN'),\n",
       " ('of', 'IN'),\n",
       " ('Bangalore', 'NNP'),\n",
       " ('City', 'NNP'),\n",
       " ('.', '.'),\n",
       " ('The', 'DT'),\n",
       " ('college', 'NN'),\n",
       " ('is', 'VBZ'),\n",
       " ('approved', 'VBN'),\n",
       " ('and', 'CC'),\n",
       " ('accredited', 'VBN'),\n",
       " ('by', 'IN'),\n",
       " ('All', 'DT'),\n",
       " ('India', 'NNP'),\n",
       " ('Council', 'NNP'),\n",
       " ('for', 'IN'),\n",
       " ('Technical', 'NNP'),\n",
       " ('Education', 'NNP'),\n",
       " ('as', 'RB'),\n",
       " ('well', 'RB'),\n",
       " ('as', 'IN'),\n",
       " ('The', 'DT'),\n",
       " ('National', 'NNP'),\n",
       " ('Board', 'NNP'),\n",
       " ('of', 'IN'),\n",
       " ('Accreditation', 'NNP'),\n",
       " ('.', '.')]"
      ]
     },
     "execution_count": 27,
     "metadata": {},
     "output_type": "execute_result"
    }
   ],
   "source": [
    "tokens_fin=[]\n",
    "tokens=nltk.word_tokenize(text)\n",
    "nltk.pos_tag(tokens)\n"
   ]
  },
  {
   "cell_type": "code",
   "execution_count": null,
   "metadata": {},
   "outputs": [],
   "source": []
  }
 ],
 "metadata": {
  "kernelspec": {
   "display_name": "Python 3",
   "language": "python",
   "name": "python3"
  },
  "language_info": {
   "codemirror_mode": {
    "name": "ipython",
    "version": 3
   },
   "file_extension": ".py",
   "mimetype": "text/x-python",
   "name": "python",
   "nbconvert_exporter": "python",
   "pygments_lexer": "ipython3",
   "version": "3.7.6"
  }
 },
 "nbformat": 4,
 "nbformat_minor": 2
}
